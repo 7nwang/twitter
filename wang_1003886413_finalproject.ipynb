{
  "cells": [
    {
      "cell_type": "markdown",
      "id": "607faa05",
      "metadata": {
        "id": "607faa05"
      },
      "source": [
        "# MIE1624 Final Exam Project"
      ]
    },
    {
      "cell_type": "code",
      "execution_count": 30,
      "id": "71a27fa6",
      "metadata": {
        "id": "71a27fa6"
      },
      "outputs": [],
      "source": [
        "# import necessary libriaries\n",
        "import numpy as np\n",
        "import pandas as pd\n",
        "from sklearn.preprocessing import StandardScaler\n",
        "from sklearn.linear_model import LogisticRegression\n",
        "from sklearn.model_selection import train_test_split\n",
        "from sklearn.model_selection import KFold\n",
        "from sklearn.metrics import make_scorer, confusion_matrix\n",
        "from sklearn.model_selection import learning_curve\n",
        "from sklearn.model_selection import GridSearchCV\n",
        "from sklearn.metrics import accuracy_score\n",
        "from sklearn.neighbors import KNeighborsClassifier\n",
        "from sklearn.naive_bayes import MultinomialNB\n",
        "from sklearn.tree import DecisionTreeClassifier\n",
        "from sklearn.svm import LinearSVC\n",
        "from sklearn.ensemble import RandomForestClassifier\n",
        "import xgboost as xgb\n",
        "import matplotlib.pyplot as plt\n",
        "import seaborn as sns\n",
        "from sklearn.model_selection import GridSearchCV\n",
        "from keras.wrappers.scikit_learn import KerasClassifier\n",
        "from sklearn.feature_extraction.text import CountVectorizer\n",
        "from sklearn.feature_extraction.text import TfidfVectorizer\n",
        "from sklearn.metrics import recall_score,precision_score,f1_score\n",
        "import warnings\n",
        "warnings.filterwarnings('ignore')"
      ]
    },
    {
      "cell_type": "code",
      "execution_count": 2,
      "id": "c7ac0807",
      "metadata": {
        "scrolled": true,
        "colab": {
          "base_uri": "https://localhost:8080/",
          "height": 423
        },
        "id": "c7ac0807",
        "outputId": "3bd6a49e-e477-46ed-e0c9-c9e79f427f51"
      },
      "outputs": [
        {
          "output_type": "execute_result",
          "data": {
            "text/plain": [
              "                                                   text sentiment  \\\n",
              "0     The Canadian election is a power grab by PM Tr...  negative   \n",
              "1     I do hope Trudeau loses the Canadian election ...  negative   \n",
              "2     Dear Canadians, This election is a test of how...  positive   \n",
              "3     Canadian friends: Never forget that Trudeau ha...  negative   \n",
              "4     Sorry @theJagmeetSingh I have voted #NDP all m...  positive   \n",
              "...                                                 ...       ...   \n",
              "997   This is absolutely horrible in Canada. The for...  negative   \n",
              "998   @davidakin Trudeau imposes gun control policie...  negative   \n",
              "999   In Canada 🇨🇦 our election is being stolen by t...  negative   \n",
              "1000  O'Toole amends platform on gun control, but qu...  negative   \n",
              "1001  @JustinTrudeau STOP YOUR LIES, STOP YOUR MANIP...  negative   \n",
              "\n",
              "             negative_reason  \n",
              "0     calling election early  \n",
              "1                     covid   \n",
              "2                        NaN  \n",
              "3     calling election early  \n",
              "4                        NaN  \n",
              "...                      ...  \n",
              "997                   others  \n",
              "998              gun control  \n",
              "999                   others  \n",
              "1000               tell lies  \n",
              "1001               tell lies  \n",
              "\n",
              "[1002 rows x 3 columns]"
            ],
            "text/html": [
              "\n",
              "  <div id=\"df-aa88a8d3-ba36-41d2-bd74-ca2cac0f616b\">\n",
              "    <div class=\"colab-df-container\">\n",
              "      <div>\n",
              "<style scoped>\n",
              "    .dataframe tbody tr th:only-of-type {\n",
              "        vertical-align: middle;\n",
              "    }\n",
              "\n",
              "    .dataframe tbody tr th {\n",
              "        vertical-align: top;\n",
              "    }\n",
              "\n",
              "    .dataframe thead th {\n",
              "        text-align: right;\n",
              "    }\n",
              "</style>\n",
              "<table border=\"1\" class=\"dataframe\">\n",
              "  <thead>\n",
              "    <tr style=\"text-align: right;\">\n",
              "      <th></th>\n",
              "      <th>text</th>\n",
              "      <th>sentiment</th>\n",
              "      <th>negative_reason</th>\n",
              "    </tr>\n",
              "  </thead>\n",
              "  <tbody>\n",
              "    <tr>\n",
              "      <th>0</th>\n",
              "      <td>The Canadian election is a power grab by PM Tr...</td>\n",
              "      <td>negative</td>\n",
              "      <td>calling election early</td>\n",
              "    </tr>\n",
              "    <tr>\n",
              "      <th>1</th>\n",
              "      <td>I do hope Trudeau loses the Canadian election ...</td>\n",
              "      <td>negative</td>\n",
              "      <td>covid</td>\n",
              "    </tr>\n",
              "    <tr>\n",
              "      <th>2</th>\n",
              "      <td>Dear Canadians, This election is a test of how...</td>\n",
              "      <td>positive</td>\n",
              "      <td>NaN</td>\n",
              "    </tr>\n",
              "    <tr>\n",
              "      <th>3</th>\n",
              "      <td>Canadian friends: Never forget that Trudeau ha...</td>\n",
              "      <td>negative</td>\n",
              "      <td>calling election early</td>\n",
              "    </tr>\n",
              "    <tr>\n",
              "      <th>4</th>\n",
              "      <td>Sorry @theJagmeetSingh I have voted #NDP all m...</td>\n",
              "      <td>positive</td>\n",
              "      <td>NaN</td>\n",
              "    </tr>\n",
              "    <tr>\n",
              "      <th>...</th>\n",
              "      <td>...</td>\n",
              "      <td>...</td>\n",
              "      <td>...</td>\n",
              "    </tr>\n",
              "    <tr>\n",
              "      <th>997</th>\n",
              "      <td>This is absolutely horrible in Canada. The for...</td>\n",
              "      <td>negative</td>\n",
              "      <td>others</td>\n",
              "    </tr>\n",
              "    <tr>\n",
              "      <th>998</th>\n",
              "      <td>@davidakin Trudeau imposes gun control policie...</td>\n",
              "      <td>negative</td>\n",
              "      <td>gun control</td>\n",
              "    </tr>\n",
              "    <tr>\n",
              "      <th>999</th>\n",
              "      <td>In Canada 🇨🇦 our election is being stolen by t...</td>\n",
              "      <td>negative</td>\n",
              "      <td>others</td>\n",
              "    </tr>\n",
              "    <tr>\n",
              "      <th>1000</th>\n",
              "      <td>O'Toole amends platform on gun control, but qu...</td>\n",
              "      <td>negative</td>\n",
              "      <td>tell lies</td>\n",
              "    </tr>\n",
              "    <tr>\n",
              "      <th>1001</th>\n",
              "      <td>@JustinTrudeau STOP YOUR LIES, STOP YOUR MANIP...</td>\n",
              "      <td>negative</td>\n",
              "      <td>tell lies</td>\n",
              "    </tr>\n",
              "  </tbody>\n",
              "</table>\n",
              "<p>1002 rows × 3 columns</p>\n",
              "</div>\n",
              "      <button class=\"colab-df-convert\" onclick=\"convertToInteractive('df-aa88a8d3-ba36-41d2-bd74-ca2cac0f616b')\"\n",
              "              title=\"Convert this dataframe to an interactive table.\"\n",
              "              style=\"display:none;\">\n",
              "        \n",
              "  <svg xmlns=\"http://www.w3.org/2000/svg\" height=\"24px\"viewBox=\"0 0 24 24\"\n",
              "       width=\"24px\">\n",
              "    <path d=\"M0 0h24v24H0V0z\" fill=\"none\"/>\n",
              "    <path d=\"M18.56 5.44l.94 2.06.94-2.06 2.06-.94-2.06-.94-.94-2.06-.94 2.06-2.06.94zm-11 1L8.5 8.5l.94-2.06 2.06-.94-2.06-.94L8.5 2.5l-.94 2.06-2.06.94zm10 10l.94 2.06.94-2.06 2.06-.94-2.06-.94-.94-2.06-.94 2.06-2.06.94z\"/><path d=\"M17.41 7.96l-1.37-1.37c-.4-.4-.92-.59-1.43-.59-.52 0-1.04.2-1.43.59L10.3 9.45l-7.72 7.72c-.78.78-.78 2.05 0 2.83L4 21.41c.39.39.9.59 1.41.59.51 0 1.02-.2 1.41-.59l7.78-7.78 2.81-2.81c.8-.78.8-2.07 0-2.86zM5.41 20L4 18.59l7.72-7.72 1.47 1.35L5.41 20z\"/>\n",
              "  </svg>\n",
              "      </button>\n",
              "      \n",
              "  <style>\n",
              "    .colab-df-container {\n",
              "      display:flex;\n",
              "      flex-wrap:wrap;\n",
              "      gap: 12px;\n",
              "    }\n",
              "\n",
              "    .colab-df-convert {\n",
              "      background-color: #E8F0FE;\n",
              "      border: none;\n",
              "      border-radius: 50%;\n",
              "      cursor: pointer;\n",
              "      display: none;\n",
              "      fill: #1967D2;\n",
              "      height: 32px;\n",
              "      padding: 0 0 0 0;\n",
              "      width: 32px;\n",
              "    }\n",
              "\n",
              "    .colab-df-convert:hover {\n",
              "      background-color: #E2EBFA;\n",
              "      box-shadow: 0px 1px 2px rgba(60, 64, 67, 0.3), 0px 1px 3px 1px rgba(60, 64, 67, 0.15);\n",
              "      fill: #174EA6;\n",
              "    }\n",
              "\n",
              "    [theme=dark] .colab-df-convert {\n",
              "      background-color: #3B4455;\n",
              "      fill: #D2E3FC;\n",
              "    }\n",
              "\n",
              "    [theme=dark] .colab-df-convert:hover {\n",
              "      background-color: #434B5C;\n",
              "      box-shadow: 0px 1px 3px 1px rgba(0, 0, 0, 0.15);\n",
              "      filter: drop-shadow(0px 1px 2px rgba(0, 0, 0, 0.3));\n",
              "      fill: #FFFFFF;\n",
              "    }\n",
              "  </style>\n",
              "\n",
              "      <script>\n",
              "        const buttonEl =\n",
              "          document.querySelector('#df-aa88a8d3-ba36-41d2-bd74-ca2cac0f616b button.colab-df-convert');\n",
              "        buttonEl.style.display =\n",
              "          google.colab.kernel.accessAllowed ? 'block' : 'none';\n",
              "\n",
              "        async function convertToInteractive(key) {\n",
              "          const element = document.querySelector('#df-aa88a8d3-ba36-41d2-bd74-ca2cac0f616b');\n",
              "          const dataTable =\n",
              "            await google.colab.kernel.invokeFunction('convertToInteractive',\n",
              "                                                     [key], {});\n",
              "          if (!dataTable) return;\n",
              "\n",
              "          const docLinkHtml = 'Like what you see? Visit the ' +\n",
              "            '<a target=\"_blank\" href=https://colab.research.google.com/notebooks/data_table.ipynb>data table notebook</a>'\n",
              "            + ' to learn more about interactive tables.';\n",
              "          element.innerHTML = '';\n",
              "          dataTable['output_type'] = 'display_data';\n",
              "          await google.colab.output.renderOutput(dataTable, element);\n",
              "          const docLink = document.createElement('div');\n",
              "          docLink.innerHTML = docLinkHtml;\n",
              "          element.appendChild(docLink);\n",
              "        }\n",
              "      </script>\n",
              "    </div>\n",
              "  </div>\n",
              "  "
            ]
          },
          "metadata": {},
          "execution_count": 2
        }
      ],
      "source": [
        "# read files\n",
        "# load data frame\n",
        "ce_df = pd.read_csv('Canadian_elections_2021.csv')\n",
        "ce_df"
      ]
    },
    {
      "cell_type": "code",
      "execution_count": 3,
      "id": "f8ad1be9",
      "metadata": {
        "scrolled": true,
        "colab": {
          "base_uri": "https://localhost:8080/",
          "height": 423
        },
        "id": "f8ad1be9",
        "outputId": "30fa2c97-2719-4d34-a127-31e3c9edd383"
      },
      "outputs": [
        {
          "output_type": "execute_result",
          "data": {
            "text/plain": [
              "                  ID                                               text  label\n",
              "0       7.680980e+17  Josh Jenkins is looking forward to TAB Breeder...      1\n",
              "1       7.680980e+17  RT @MianUsmanJaved: Congratulations Pakistan o...      1\n",
              "2       7.680980e+17  RT @PEPalerts: This September, @YESmag is taki...      1\n",
              "3       7.680980e+17  RT @david_gaibis: Newly painted walls, thanks ...      1\n",
              "4       7.680980e+17  RT @CedricFeschotte: Excited to announce: as o...      1\n",
              "...              ...                                                ...    ...\n",
              "550386  8.046170e+17  @goddesses_o I can't stop watching her...mm. M...      0\n",
              "550387  8.046180e+17  Poor old Tom Odell doesn't look like he would ...      0\n",
              "550388  8.046180e+17  #antsmasher I smashed  7 ants in this awesome ...      1\n",
              "550389  8.046180e+17  @LizHudston @KymWyllie @Evasmiless @meanBok @l...      1\n",
              "550390  8.046190e+17  Bixbeat Mixtape Vol.2 is here with great artis...      1\n",
              "\n",
              "[550391 rows x 3 columns]"
            ],
            "text/html": [
              "\n",
              "  <div id=\"df-98c11bfa-80e1-478a-9edb-0688ef236fe8\">\n",
              "    <div class=\"colab-df-container\">\n",
              "      <div>\n",
              "<style scoped>\n",
              "    .dataframe tbody tr th:only-of-type {\n",
              "        vertical-align: middle;\n",
              "    }\n",
              "\n",
              "    .dataframe tbody tr th {\n",
              "        vertical-align: top;\n",
              "    }\n",
              "\n",
              "    .dataframe thead th {\n",
              "        text-align: right;\n",
              "    }\n",
              "</style>\n",
              "<table border=\"1\" class=\"dataframe\">\n",
              "  <thead>\n",
              "    <tr style=\"text-align: right;\">\n",
              "      <th></th>\n",
              "      <th>ID</th>\n",
              "      <th>text</th>\n",
              "      <th>label</th>\n",
              "    </tr>\n",
              "  </thead>\n",
              "  <tbody>\n",
              "    <tr>\n",
              "      <th>0</th>\n",
              "      <td>7.680980e+17</td>\n",
              "      <td>Josh Jenkins is looking forward to TAB Breeder...</td>\n",
              "      <td>1</td>\n",
              "    </tr>\n",
              "    <tr>\n",
              "      <th>1</th>\n",
              "      <td>7.680980e+17</td>\n",
              "      <td>RT @MianUsmanJaved: Congratulations Pakistan o...</td>\n",
              "      <td>1</td>\n",
              "    </tr>\n",
              "    <tr>\n",
              "      <th>2</th>\n",
              "      <td>7.680980e+17</td>\n",
              "      <td>RT @PEPalerts: This September, @YESmag is taki...</td>\n",
              "      <td>1</td>\n",
              "    </tr>\n",
              "    <tr>\n",
              "      <th>3</th>\n",
              "      <td>7.680980e+17</td>\n",
              "      <td>RT @david_gaibis: Newly painted walls, thanks ...</td>\n",
              "      <td>1</td>\n",
              "    </tr>\n",
              "    <tr>\n",
              "      <th>4</th>\n",
              "      <td>7.680980e+17</td>\n",
              "      <td>RT @CedricFeschotte: Excited to announce: as o...</td>\n",
              "      <td>1</td>\n",
              "    </tr>\n",
              "    <tr>\n",
              "      <th>...</th>\n",
              "      <td>...</td>\n",
              "      <td>...</td>\n",
              "      <td>...</td>\n",
              "    </tr>\n",
              "    <tr>\n",
              "      <th>550386</th>\n",
              "      <td>8.046170e+17</td>\n",
              "      <td>@goddesses_o I can't stop watching her...mm. M...</td>\n",
              "      <td>0</td>\n",
              "    </tr>\n",
              "    <tr>\n",
              "      <th>550387</th>\n",
              "      <td>8.046180e+17</td>\n",
              "      <td>Poor old Tom Odell doesn't look like he would ...</td>\n",
              "      <td>0</td>\n",
              "    </tr>\n",
              "    <tr>\n",
              "      <th>550388</th>\n",
              "      <td>8.046180e+17</td>\n",
              "      <td>#antsmasher I smashed  7 ants in this awesome ...</td>\n",
              "      <td>1</td>\n",
              "    </tr>\n",
              "    <tr>\n",
              "      <th>550389</th>\n",
              "      <td>8.046180e+17</td>\n",
              "      <td>@LizHudston @KymWyllie @Evasmiless @meanBok @l...</td>\n",
              "      <td>1</td>\n",
              "    </tr>\n",
              "    <tr>\n",
              "      <th>550390</th>\n",
              "      <td>8.046190e+17</td>\n",
              "      <td>Bixbeat Mixtape Vol.2 is here with great artis...</td>\n",
              "      <td>1</td>\n",
              "    </tr>\n",
              "  </tbody>\n",
              "</table>\n",
              "<p>550391 rows × 3 columns</p>\n",
              "</div>\n",
              "      <button class=\"colab-df-convert\" onclick=\"convertToInteractive('df-98c11bfa-80e1-478a-9edb-0688ef236fe8')\"\n",
              "              title=\"Convert this dataframe to an interactive table.\"\n",
              "              style=\"display:none;\">\n",
              "        \n",
              "  <svg xmlns=\"http://www.w3.org/2000/svg\" height=\"24px\"viewBox=\"0 0 24 24\"\n",
              "       width=\"24px\">\n",
              "    <path d=\"M0 0h24v24H0V0z\" fill=\"none\"/>\n",
              "    <path d=\"M18.56 5.44l.94 2.06.94-2.06 2.06-.94-2.06-.94-.94-2.06-.94 2.06-2.06.94zm-11 1L8.5 8.5l.94-2.06 2.06-.94-2.06-.94L8.5 2.5l-.94 2.06-2.06.94zm10 10l.94 2.06.94-2.06 2.06-.94-2.06-.94-.94-2.06-.94 2.06-2.06.94z\"/><path d=\"M17.41 7.96l-1.37-1.37c-.4-.4-.92-.59-1.43-.59-.52 0-1.04.2-1.43.59L10.3 9.45l-7.72 7.72c-.78.78-.78 2.05 0 2.83L4 21.41c.39.39.9.59 1.41.59.51 0 1.02-.2 1.41-.59l7.78-7.78 2.81-2.81c.8-.78.8-2.07 0-2.86zM5.41 20L4 18.59l7.72-7.72 1.47 1.35L5.41 20z\"/>\n",
              "  </svg>\n",
              "      </button>\n",
              "      \n",
              "  <style>\n",
              "    .colab-df-container {\n",
              "      display:flex;\n",
              "      flex-wrap:wrap;\n",
              "      gap: 12px;\n",
              "    }\n",
              "\n",
              "    .colab-df-convert {\n",
              "      background-color: #E8F0FE;\n",
              "      border: none;\n",
              "      border-radius: 50%;\n",
              "      cursor: pointer;\n",
              "      display: none;\n",
              "      fill: #1967D2;\n",
              "      height: 32px;\n",
              "      padding: 0 0 0 0;\n",
              "      width: 32px;\n",
              "    }\n",
              "\n",
              "    .colab-df-convert:hover {\n",
              "      background-color: #E2EBFA;\n",
              "      box-shadow: 0px 1px 2px rgba(60, 64, 67, 0.3), 0px 1px 3px 1px rgba(60, 64, 67, 0.15);\n",
              "      fill: #174EA6;\n",
              "    }\n",
              "\n",
              "    [theme=dark] .colab-df-convert {\n",
              "      background-color: #3B4455;\n",
              "      fill: #D2E3FC;\n",
              "    }\n",
              "\n",
              "    [theme=dark] .colab-df-convert:hover {\n",
              "      background-color: #434B5C;\n",
              "      box-shadow: 0px 1px 3px 1px rgba(0, 0, 0, 0.15);\n",
              "      filter: drop-shadow(0px 1px 2px rgba(0, 0, 0, 0.3));\n",
              "      fill: #FFFFFF;\n",
              "    }\n",
              "  </style>\n",
              "\n",
              "      <script>\n",
              "        const buttonEl =\n",
              "          document.querySelector('#df-98c11bfa-80e1-478a-9edb-0688ef236fe8 button.colab-df-convert');\n",
              "        buttonEl.style.display =\n",
              "          google.colab.kernel.accessAllowed ? 'block' : 'none';\n",
              "\n",
              "        async function convertToInteractive(key) {\n",
              "          const element = document.querySelector('#df-98c11bfa-80e1-478a-9edb-0688ef236fe8');\n",
              "          const dataTable =\n",
              "            await google.colab.kernel.invokeFunction('convertToInteractive',\n",
              "                                                     [key], {});\n",
              "          if (!dataTable) return;\n",
              "\n",
              "          const docLinkHtml = 'Like what you see? Visit the ' +\n",
              "            '<a target=\"_blank\" href=https://colab.research.google.com/notebooks/data_table.ipynb>data table notebook</a>'\n",
              "            + ' to learn more about interactive tables.';\n",
              "          element.innerHTML = '';\n",
              "          dataTable['output_type'] = 'display_data';\n",
              "          await google.colab.output.renderOutput(dataTable, element);\n",
              "          const docLink = document.createElement('div');\n",
              "          docLink.innerHTML = docLinkHtml;\n",
              "          element.appendChild(docLink);\n",
              "        }\n",
              "      </script>\n",
              "    </div>\n",
              "  </div>\n",
              "  "
            ]
          },
          "metadata": {},
          "execution_count": 3
        }
      ],
      "source": [
        "# load data frame\n",
        "sa_df = pd.read_csv('sentiment_analysis.csv')\n",
        "sa_df"
      ]
    },
    {
      "cell_type": "markdown",
      "id": "5c336bbd",
      "metadata": {
        "id": "5c336bbd"
      },
      "source": [
        "## 1. Data Clean"
      ]
    },
    {
      "cell_type": "markdown",
      "id": "744ea87e",
      "metadata": {
        "id": "744ea87e"
      },
      "source": [
        "### Remove all emojis"
      ]
    },
    {
      "cell_type": "code",
      "execution_count": 4,
      "id": "2749b549",
      "metadata": {
        "id": "2749b549"
      },
      "outputs": [],
      "source": [
        "import re\n",
        "# remove emoji\n",
        "def remove_emoji(string):\n",
        "    emoji_pattern = re.compile(\"[\"\n",
        "                               u\"\\U0001F600-\\U0001F64F\"  # emoticons\n",
        "                               u\"\\U0001F300-\\U0001F5FF\"  # symbols & pictographs\n",
        "                               u\"\\U0001F680-\\U0001F6FF\"  # transport & map symbols\n",
        "                               u\"\\U0001F1E0-\\U0001F1FF\"  # flags (iOS)\n",
        "                               u\"\\U00002500-\\U00002BEF\"  # chinese char\n",
        "                               u\"\\U00002702-\\U000027B0\"\n",
        "                               u\"\\U00002702-\\U000027B0\"\n",
        "                               u\"\\U000024C2-\\U0001F251\"\n",
        "                               u\"\\U0001f926-\\U0001f937\"\n",
        "                               u\"\\U00010000-\\U0010ffff\"\n",
        "                               u\"\\u2640-\\u2642\"\n",
        "                               u\"\\u2600-\\u2B55\"\n",
        "                               u\"\\u200d\"\n",
        "                               u\"\\u23cf\"\n",
        "                               u\"\\u23e9\"\n",
        "                               u\"\\u231a\"\n",
        "                               u\"\\ufe0f\"  # dingbats\n",
        "                               u\"\\u3030\"\n",
        "                               \"]+\", flags=re.UNICODE)\n",
        "    return emoji_pattern.sub(r'', string)\n",
        "ce_df.text = ce_df.text.apply(remove_emoji)\n",
        "sa_df.text = sa_df.text.apply(remove_emoji)"
      ]
    },
    {
      "cell_type": "markdown",
      "id": "f76f856a",
      "metadata": {
        "id": "f76f856a"
      },
      "source": [
        "### Remove all URLs"
      ]
    },
    {
      "cell_type": "code",
      "execution_count": 5,
      "id": "405dcd8e",
      "metadata": {
        "id": "405dcd8e"
      },
      "outputs": [],
      "source": [
        "# remove URLs\n",
        "def remove_URL(string):\n",
        "    clean_string = re.sub(r\"http\\S+\", \"\", string)\n",
        "    return clean_string\n",
        "\n",
        "ce_df.text = ce_df.text.apply(remove_URL)\n",
        "sa_df.text = sa_df.text.apply(remove_URL)"
      ]
    },
    {
      "cell_type": "markdown",
      "id": "7b32bf27",
      "metadata": {
        "id": "7b32bf27"
      },
      "source": [
        "### Remove all characters in the text are in lowercase"
      ]
    },
    {
      "cell_type": "code",
      "execution_count": 6,
      "id": "0643c66e",
      "metadata": {
        "id": "0643c66e"
      },
      "outputs": [],
      "source": [
        "# make all chars in lower case\n",
        "def lower_case(string):\n",
        "    return string.lower()\n",
        "\n",
        "ce_df.text = ce_df.text.apply(lower_case)\n",
        "sa_df.text = sa_df.text.apply(lower_case)"
      ]
    },
    {
      "cell_type": "markdown",
      "id": "c79feec3",
      "metadata": {
        "id": "c79feec3"
      },
      "source": [
        "### Remove all stop words"
      ]
    },
    {
      "cell_type": "code",
      "execution_count": 7,
      "id": "c11ab690",
      "metadata": {
        "colab": {
          "base_uri": "https://localhost:8080/"
        },
        "id": "c11ab690",
        "outputId": "67777119-f7dc-4182-bf14-db04971b36fe"
      },
      "outputs": [
        {
          "output_type": "stream",
          "name": "stdout",
          "text": [
            "[nltk_data] Downloading package stopwords to /root/nltk_data...\n",
            "[nltk_data]   Package stopwords is already up-to-date!\n",
            "[nltk_data] Downloading package punkt to /root/nltk_data...\n",
            "[nltk_data]   Package punkt is already up-to-date!\n"
          ]
        }
      ],
      "source": [
        "import nltk\n",
        "nltk.download('stopwords')\n",
        "nltk.download('punkt')\n",
        "from nltk.corpus import stopwords\n",
        "from nltk.tokenize import word_tokenize\n",
        "\n",
        "stop_words = set(stopwords.words('english'))\n",
        "ce_df.text = ce_df.text.apply(lambda x: ' '.join([word for word in x.split() if word not in (stop_words)]))\n",
        "sa_df.text = sa_df.text.apply(lambda x: ' '.join([word for word in x.split() if word not in (stop_words)]))"
      ]
    },
    {
      "cell_type": "markdown",
      "id": "7a31fb82",
      "metadata": {
        "id": "7a31fb82"
      },
      "source": [
        "Lemmatize: do things properly with the use of a vocabulary and morphological analysis of words, normally aiming to remove inflectional endings only and to return the base or dictionary form of a word"
      ]
    },
    {
      "cell_type": "code",
      "execution_count": 8,
      "id": "a7f38c35",
      "metadata": {
        "colab": {
          "base_uri": "https://localhost:8080/"
        },
        "id": "a7f38c35",
        "outputId": "09bf7262-bcfc-4529-f6b9-1b3b7f54d512"
      },
      "outputs": [
        {
          "output_type": "stream",
          "name": "stdout",
          "text": [
            "[nltk_data] Downloading package wordnet to /root/nltk_data...\n",
            "[nltk_data]   Package wordnet is already up-to-date!\n"
          ]
        }
      ],
      "source": [
        "from nltk.stem import WordNetLemmatizer\n",
        "nltk.download('wordnet')\n",
        "#nltk.download('punkt')\n",
        "lemmatizer = WordNetLemmatizer()\n",
        "\n",
        "def extract(text):\n",
        "    words_in_each_tweet = word_tokenize(text)\n",
        "    final = [lemmatizer.lemmatize(word) for word in words_in_each_tweet]\n",
        "    stemmed_string = ' '.join(final)\n",
        "    return stemmed_string\n",
        "\n",
        "ce_df.text = ce_df.text.apply(extract)\n",
        "sa_df.text = sa_df.text.apply(extract)"
      ]
    },
    {
      "cell_type": "markdown",
      "id": "37f412da",
      "metadata": {
        "id": "37f412da"
      },
      "source": [
        "### Remove all punctuations"
      ]
    },
    {
      "cell_type": "code",
      "execution_count": 9,
      "id": "fcb604f7",
      "metadata": {
        "id": "fcb604f7"
      },
      "outputs": [],
      "source": [
        "# remove punctuations\n",
        "def remove_punctuation(text):\n",
        "    clean_string = re.sub(r'[^a-zA-Z]', ' ', text)\n",
        "    return clean_string\n",
        "\n",
        "ce_df.text = ce_df.text.apply(remove_punctuation)\n",
        "sa_df.text = sa_df.text.apply(remove_punctuation)"
      ]
    },
    {
      "cell_type": "code",
      "execution_count": 10,
      "id": "91402f58",
      "metadata": {
        "colab": {
          "base_uri": "https://localhost:8080/"
        },
        "id": "91402f58",
        "outputId": "4cd586a2-8619-42c0-8710-02f02408dce4"
      },
      "outputs": [
        {
          "output_type": "execute_result",
          "data": {
            "text/plain": [
              "0"
            ]
          },
          "metadata": {},
          "execution_count": 10
        }
      ],
      "source": [
        "ce_df['text'].isnull().sum()"
      ]
    },
    {
      "cell_type": "markdown",
      "id": "ed10ae04",
      "metadata": {
        "id": "ed10ae04"
      },
      "source": [
        "## 2. Exploratory Analysis"
      ]
    },
    {
      "cell_type": "markdown",
      "id": "afc4a497",
      "metadata": {
        "id": "afc4a497"
      },
      "source": [
        "### 2.1 \n",
        "Design a procedure that determines the political party (Liberal, Conservative, New Democratic Party (NDP), The People's Party of Canada (PPC)) of a given tweet and apply this procedure to all the tweets in the Canadian Elections dataset. "
      ]
    },
    {
      "cell_type": "code",
      "execution_count": 110,
      "id": "bea5545d",
      "metadata": {
        "id": "bea5545d"
      },
      "outputs": [],
      "source": [
        "# each party's keywords\n",
        "liberal = ['liber','lib','liberal', 'liberals','justin', 'trudeau', 'justintrudeau', 'timlouis', 'chooseforward', 'chooseforwardwithtrudeau', 'teamtrudeau', 'votingliberal']\n",
        "conservative = ['conserv','con','otoole', 'erin', 'erinotoole', 'conservative', 'conservatives', 'cpc']\n",
        "NDP = ['jagmeet', 'singh', 'thejagmeetsingh', 'uprisingh', 'ndp']\n",
        "PPC = ['bernier', 'maximebernier', 'maximebernier', 'ppc']"
      ]
    },
    {
      "cell_type": "code",
      "execution_count": 111,
      "id": "25d4cd44",
      "metadata": {
        "id": "25d4cd44"
      },
      "outputs": [],
      "source": [
        "# define a function to find matched party name for each tweets\n",
        "def party_id(text):\n",
        "    a = []\n",
        "    \n",
        "    for word in liberal:   \n",
        "        if word in text:\n",
        "            a.append('Liberal')\n",
        "        \n",
        "    for word in conservative:\n",
        "        if word in text:\n",
        "            a.append('Conservative')\n",
        "           \n",
        "    for word in NDP:\n",
        "        if word in text:\n",
        "            a.append('NDP')\n",
        "            \n",
        "    for word in PPC:\n",
        "        if word in text:\n",
        "            a.append('PPC')\n",
        "            \n",
        "    # if tweet has more than one party, choose the most common one\n",
        "    if len(a) > 1:\n",
        "        most_common = max(set(a), key=a.count)\n",
        "        a = []\n",
        "        a.append(most_common)\n",
        "    # if no match party name, assign \"Other\"\n",
        "    elif len(a) == 0:\n",
        "        a.append('Other')\n",
        "        \n",
        "    return a"
      ]
    },
    {
      "cell_type": "code",
      "execution_count": 114,
      "id": "e4080070",
      "metadata": {
        "id": "e4080070"
      },
      "outputs": [],
      "source": [
        "# store values\n",
        "party_list = []\n",
        "liberal_list = []\n",
        "conservative_list = []\n",
        "ndp_list = []\n",
        "ppc_list = []\n",
        "other_list = []\n",
        "\n",
        "# find matched party name for each tweets in canadian elections dataset\n",
        "for i in range(len(ce_df)):   \n",
        "    party_name = party_id(ce_df['text'][i])[0]\n",
        "    party_list.append(party_name)\n",
        "    if party_name == 'Liberal':\n",
        "        liberal_list.append(ce_df['text'][i])\n",
        "    elif party_name == 'Conservative':\n",
        "        conservative_list.append(ce_df['text'][i])\n",
        "    elif party_name == 'NDP':\n",
        "        ndp_list.append(ce_df['text'][i])\n",
        "    elif party_name == 'PPC':\n",
        "        ppc_list.append(ce_df['text'][i])\n",
        "    elif party_name == 'Other':\n",
        "        other_list.append(ce_df['text'][i])"
      ]
    },
    {
      "cell_type": "code",
      "execution_count": null,
      "id": "31f0425c",
      "metadata": {
        "id": "31f0425c"
      },
      "outputs": [],
      "source": [
        "# find matched party name for each tweets in sentiment analysis dataset\n",
        "sa_party_list=[]\n",
        "for i in range(len(sa_df)):   \n",
        "    sa_party_name = party_id(sa_df['text'][i])[0]\n",
        "    sa_party_list.append(sa_party_name)\n",
        "sa_df_party=sa_df.copy()\n",
        "sa_df_party['party']=sa_party_list"
      ]
    },
    {
      "cell_type": "markdown",
      "id": "3945bac4",
      "metadata": {
        "id": "3945bac4"
      },
      "source": [
        "### 2.2 Visualization"
      ]
    },
    {
      "cell_type": "code",
      "execution_count": null,
      "id": "f972e26e",
      "metadata": {
        "colab": {
          "base_uri": "https://localhost:8080/"
        },
        "id": "f972e26e",
        "outputId": "0ce9dbb0-d8e3-4f8d-fde3-a07914f1e134"
      },
      "outputs": [
        {
          "output_type": "display_data",
          "data": {
            "text/plain": [
              "<Figure size 432x288 with 1 Axes>"
            ],
            "image/png": "[encoded data removed]"
          },
          "metadata": {}
        }
      ],
      "source": [
        "# Canadian Election Dataset: Pie chart \n",
        "labels = 'Liberal Party', 'Conservative Party', 'New Democratic Party', \"People's Party of Canada\", 'Other'\n",
        "sizes = [len(liberal_list)/ce_df.shape[0], len(conservative_list)/ce_df.shape[0], len(ndp_list)/ce_df.shape[0], \n",
        "         len(ppc_list)/ce_df.shape[0], len(other_list)/ce_df.shape[0]]\n",
        "fig, ax = plt.subplots()\n",
        "#colors\n",
        "colors = ['#ff8888','#66b3ff','#aacc88','#ffcc99','#aa9999']\n",
        "ax.pie(sizes, colors = colors,labels=labels, autopct='%1.1f%%', startangle=90)\n",
        "ax.axis('equal')  \n",
        "#draw circle\n",
        "centre_circle = plt.Circle((0,0),0.70,fc='white')\n",
        "fig = plt.gcf()\n",
        "fig.gca().add_artist(centre_circle)\n",
        "plt.title('Percantage of Tweets for Each Party')\n",
        "plt.show()"
      ]
    },
    {
      "cell_type": "code",
      "execution_count": null,
      "id": "8220e726",
      "metadata": {
        "colab": {
          "base_uri": "https://localhost:8080/"
        },
        "id": "8220e726",
        "outputId": "d0466903-f2f9-4a83-c1df-30d2bb4d7c3d"
      },
      "outputs": [
        {
          "output_type": "stream",
          "name": "stdout",
          "text": [
            "Liberal Party has 42.5% tweets.\n",
            "Conservative Party has 28.1% tweets.\n",
            "New Democratic Party has 3.0% tweets.\n",
            "People's Party of Canada has 6.1% tweets.\n",
            "Other has 20.3% tweets.\n"
          ]
        }
      ],
      "source": [
        "print('Liberal Party has {:.1%}'.format(len(liberal_list)/ce_df.shape[0]),'tweets.')\n",
        "print('Conservative Party has {:.1%}'.format(len(conservative_list)/ce_df.shape[0]),'tweets.')\n",
        "print('New Democratic Party has {:.1%}'.format(len(ndp_list)/ce_df.shape[0]),'tweets.')\n",
        "print(\"People's Party of Canada has {:.1%}\".format(len(ppc_list)/ce_df.shape[0]),'tweets.')\n",
        "print('Other has {:.1%}'.format(len(other_list)/ce_df.shape[0]),'tweets.')"
      ]
    },
    {
      "cell_type": "code",
      "execution_count": null,
      "id": "404c4fd7",
      "metadata": {
        "colab": {
          "base_uri": "https://localhost:8080/"
        },
        "id": "404c4fd7",
        "outputId": "22d7c8be-ac9e-4394-e61d-6635c5cbbc16"
      },
      "outputs": [
        {
          "output_type": "display_data",
          "data": {
            "text/plain": [
              "<Figure size 432x288 with 1 Axes>"
            ],
            "image/png": "[encoded data removed]"
          },
          "metadata": {
            "needs_background": "light"
          }
        }
      ],
      "source": [
        "# Sentiment_Analysis: Bar plot\n",
        "a = sa_df_party[sa_df_party['label']==0]\n",
        "negative_liberal = len(a[a['party']=='Liberal'])\n",
        "negative_conservative = len(a[a['party']=='Conservative'])\n",
        "negative_NDP = len(a[a['party']=='NDP'])\n",
        "negative_PPC = len(a[a['party']=='PPC'])\n",
        "negative_total = [negative_liberal,negative_conservative,negative_NDP,negative_PPC]\n",
        "\n",
        "b = sa_df_party[sa_df_party['label']==1]\n",
        "positive_liberal = len(b[b['party']=='Liberal'])\n",
        "positive_conservative = len(b[b['party']=='Conservative'])\n",
        "positive_NDP = len(b[b['party']=='NDP'])\n",
        "positive_PPC = len(b[b['party']=='PPC'])\n",
        "positive_total = [positive_liberal,positive_conservative,positive_NDP,positive_PPC]\n",
        "\n",
        "index = np.arange(4)\n",
        "width = 0.35\n",
        "plt.bar(index, positive_total, width, color='#7CCC77', label='Positive Sentiment')\n",
        "plt.bar(index+width, negative_total, width, color='#ff6666', label='Negative Sentiment')\n",
        "\n",
        "plt.xlabel('Party')\n",
        "plt.ylabel('Tweets Number')\n",
        "plt.title('Number of Positive and Negative Tweets for Each Party')\n",
        "plt.xticks(index+width/2,('Liberal', 'Conservative', 'NDP', 'PPC'))\n",
        "plt.legend()\n",
        "plt.show()"
      ]
    },
    {
      "cell_type": "markdown",
      "id": "029391e1",
      "metadata": {
        "id": "029391e1"
      },
      "source": [
        "## 3. Sentiment Classification - Model Implementation and Tuning"
      ]
    },
    {
      "cell_type": "markdown",
      "source": [
        "### a. Machine learning models: "
      ],
      "metadata": {
        "id": "P00_3Jd-1t2W"
      },
      "id": "P00_3Jd-1t2W"
    },
    {
      "cell_type": "markdown",
      "source": [
        "Train seven classification algorithms on the training data from generic tweets: logistic regression, k-NN, Naive Bayes, SVM, decision trees, Random Forest, and XGBoost, where each tweet is considered a single observation/example, and the target variable is the sentiment value, which is either positive or negative."
      ],
      "metadata": {
        "id": "TngQLBwLKl6y"
      },
      "id": "TngQLBwLKl6y"
    },
    {
      "cell_type": "code",
      "execution_count": 28,
      "id": "dac59717",
      "metadata": {
        "id": "dac59717"
      },
      "outputs": [],
      "source": [
        "# Split the generic tweets randomly into training data (80%) and test data (20%).\n",
        "columns = ['text', 'label']\n",
        "tw_train, tw_test = train_test_split(sa_df[columns].values, test_size=0.2, random_state=42)\n",
        "\n",
        "np.random.shuffle(tw_train)\n",
        "tw_train_X, tw_train_y = tw_train[:,[0]], tw_train[:, [1]]\n",
        "tw_train_X, tw_train_y = tw_train_X.flatten(), tw_train_y.flatten().astype('int')\n",
        "#print(tw_train_X.shape,tw_train_y.shape)\n",
        "\n",
        "tw_test_X, tw_test_y = tw_test[:,[0]], tw_test[:, [1]]\n",
        "tw_test_X, tw_test_y = tw_test_X.flatten(), tw_test_y.flatten().astype('int')\n",
        "#print(tw_test_X.shape,tw_test_y.shape)"
      ]
    },
    {
      "cell_type": "code",
      "source": [
        "# perpare data using TF-IDF\n",
        "v_tf = TfidfVectorizer(use_idf=True, smooth_idf=True, norm=None, max_features=5000)\n",
        "v_tf.fit(tw_train_X)\n",
        "train_X_tf = v_tf.transform(tw_train_X)\n",
        "test_X_tf = v_tf.transform(tw_test_X)"
      ],
      "metadata": {
        "id": "ekc4oqMKAXOQ"
      },
      "id": "ekc4oqMKAXOQ",
      "execution_count": 34,
      "outputs": []
    },
    {
      "cell_type": "markdown",
      "source": [
        "**logistic regression**"
      ],
      "metadata": {
        "id": "F64dYtqdMn0k"
      },
      "id": "F64dYtqdMn0k"
    },
    {
      "cell_type": "code",
      "source": [
        "log_tf = LogisticRegression()\n",
        "log_tf.fit(train_X_tf, tw_train_y)\n",
        "log_pred_tf = log_tf.predict(test_X_tf)\n",
        "log_acc_tf = accuracy_score(tw_test_y, log_pred_tf)\n",
        "print('Accuracy for logistic regression by using TF-IDF:', log_acc_tf)"
      ],
      "metadata": {
        "colab": {
          "base_uri": "https://localhost:8080/"
        },
        "id": "DJwpvLi1Mn-v",
        "outputId": "b21993bb-73bc-4eec-9920-6aae114b337f"
      },
      "id": "DJwpvLi1Mn-v",
      "execution_count": 35,
      "outputs": [
        {
          "output_type": "stream",
          "name": "stdout",
          "text": [
            "Accuracy for logistic regression by using TF-IDF: 0.9689677413493946\n"
          ]
        }
      ]
    },
    {
      "cell_type": "markdown",
      "source": [
        "**k-NN**"
      ],
      "metadata": {
        "id": "Y8Q3RY2bOUQ1"
      },
      "id": "Y8Q3RY2bOUQ1"
    },
    {
      "cell_type": "code",
      "source": [
        "knn_tf = KNeighborsClassifier()\n",
        "knn_tf.fit(train_X_tf, tw_train_y)\n",
        "knn_pred_tf = knn_tf.predict(test_X_tf)\n",
        "knn_acc_tf = accuracy_score(tw_test_y, knn_pred_tf)\n",
        "print('Accuracy for k-NN by using TF-IDF:', knn_acc_tf)"
      ],
      "metadata": {
        "colab": {
          "base_uri": "https://localhost:8080/"
        },
        "id": "dhZRBvHcOVem",
        "outputId": "b015e900-641c-46cd-8477-0bc6284cc7ec"
      },
      "id": "dhZRBvHcOVem",
      "execution_count": null,
      "outputs": [
        {
          "output_type": "stream",
          "name": "stdout",
          "text": [
            "The accuracy for k-NN by using TF-IDF is 0.8801587950471934\n"
          ]
        }
      ]
    },
    {
      "cell_type": "markdown",
      "source": [
        "**Naive Bayes**"
      ],
      "metadata": {
        "id": "tY-Uz4fhPY2c"
      },
      "id": "tY-Uz4fhPY2c"
    },
    {
      "cell_type": "code",
      "source": [
        "nb_tf = MultinomialNB()\n",
        "nb_tf.fit(train_X_tf, tw_train_y)\n",
        "nb_pred_tf = nb_tf.predict(test_X_tf)\n",
        "nb_acc_tf = accuracy_score(tw_test_y, nb_pred_tf)\n",
        "print('Accuracy for Naives Bayes by using TF-IDF:', nb_acc_tf)"
      ],
      "metadata": {
        "colab": {
          "base_uri": "https://localhost:8080/"
        },
        "id": "GVo_xkEDPVFU",
        "outputId": "1c78bb15-7cfb-475f-9adf-d2080e9c6687"
      },
      "id": "GVo_xkEDPVFU",
      "execution_count": null,
      "outputs": [
        {
          "output_type": "stream",
          "name": "stdout",
          "text": [
            "Accuracy for Naives Bayes by using TF-IDF: 0.9316309196122785\n"
          ]
        }
      ]
    },
    {
      "cell_type": "markdown",
      "source": [
        "**SVM**"
      ],
      "metadata": {
        "id": "66DIq5P9PdJK"
      },
      "id": "66DIq5P9PdJK"
    },
    {
      "cell_type": "code",
      "source": [
        "svm_tf = LinearSVC()\n",
        "svm_tf.fit(train_X_tf, tw_train_y)\n",
        "svm_pred_tf = svm_tf.predict(test_X_tf)\n",
        "svm_acc_tf = accuracy_score(tw_test_y, svm_pred_tf)\n",
        "print('Accuracy for SVM by using TF-IDF:', svm_acc_tf)"
      ],
      "metadata": {
        "colab": {
          "base_uri": "https://localhost:8080/"
        },
        "id": "CpNgPMPyPfZe",
        "outputId": "b3c3e80b-bbef-4c48-de59-d7967c6f7073"
      },
      "id": "CpNgPMPyPfZe",
      "execution_count": null,
      "outputs": [
        {
          "output_type": "stream",
          "name": "stdout",
          "text": [
            "Accuracy for SVM by using TF-IDF: 0.9680502184794557\n"
          ]
        }
      ]
    },
    {
      "cell_type": "markdown",
      "source": [
        "**Decision Trees**"
      ],
      "metadata": {
        "id": "j6-10O0LPfyz"
      },
      "id": "j6-10O0LPfyz"
    },
    {
      "cell_type": "code",
      "source": [
        "dt_tf = DecisionTreeClassifier()\n",
        "dt_tf.fit(train_X_tf, tw_train_y)\n",
        "dt_pred_tf = dt_tf.predict(test_X_tf)\n",
        "dt_acc_tf = accuracy_score(tw_test_y, dt_pred_tf)\n",
        "print('Accuracy for decision trees by using TF-IDF:', dt_acc_tf)"
      ],
      "metadata": {
        "colab": {
          "base_uri": "https://localhost:8080/"
        },
        "id": "QTR_fl0hPjSC",
        "outputId": "3f2727d7-55e1-44f7-b2f4-dbf8ccdc39cd"
      },
      "id": "QTR_fl0hPjSC",
      "execution_count": null,
      "outputs": [
        {
          "output_type": "stream",
          "name": "stdout",
          "text": [
            "Accuracy for decision trees by using TF-IDF: 0.9412785363239128\n"
          ]
        }
      ]
    },
    {
      "cell_type": "markdown",
      "source": [
        "**Random Forest**"
      ],
      "metadata": {
        "id": "Io48miHDPjlI"
      },
      "id": "Io48miHDPjlI"
    },
    {
      "cell_type": "code",
      "source": [
        "rf_tf = RandomForestClassifier()\n",
        "rf_tf.fit(train_X_tf, tw_train_y)\n",
        "rf_pred_tf = rf_tf.predict(test_X_tf)\n",
        "rf_acc_tf = accuracy_score(tw_test_y, rf_pred_tf)\n",
        "print('Accuracy for random forest by using TF-IDF:', rf_acc_tf)"
      ],
      "metadata": {
        "colab": {
          "base_uri": "https://localhost:8080/"
        },
        "id": "P6lGyB2tPmRQ",
        "outputId": "34af504e-3f93-4c6f-b2c1-b25a9fa7bf71"
      },
      "id": "P6lGyB2tPmRQ",
      "execution_count": null,
      "outputs": [
        {
          "output_type": "stream",
          "name": "stdout",
          "text": [
            "Accuracy for random forest by using TF-IDF: 0.959483643565076\n"
          ]
        }
      ]
    },
    {
      "cell_type": "markdown",
      "source": [
        "**XGBoost**"
      ],
      "metadata": {
        "id": "Wl_dSfKaPmrI"
      },
      "id": "Wl_dSfKaPmrI"
    },
    {
      "cell_type": "code",
      "source": [
        "xgb_tf = xgb.XGBClassifier()\n",
        "xgb_tf.fit(train_X_tf, tw_train_y)\n",
        "xgb_pred_tf = xgb_tf.predict(test_X_tf)\n",
        "xgb_acc_tf = accuracy_score(tw_test_y, xgb_pred_tf)\n",
        "print('Accuracy for XGBoost by using TF-IDF:', xgb_acc_tf)"
      ],
      "metadata": {
        "colab": {
          "base_uri": "https://localhost:8080/"
        },
        "id": "bSRRsJC8P2XV",
        "outputId": "3ba5df2c-26eb-40f2-fb51-b9b5ea5e23de"
      },
      "id": "bSRRsJC8P2XV",
      "execution_count": null,
      "outputs": [
        {
          "output_type": "stream",
          "name": "stdout",
          "text": [
            "Accuracy for XGBoost by using TF-IDF: 0.8553039180951861\n"
          ]
        }
      ]
    },
    {
      "cell_type": "markdown",
      "source": [
        "Logistic regression model has the highest accuracy score around 96.9% by using TF-IDF."
      ],
      "metadata": {
        "id": "PHOIdMtsaFdR"
      },
      "id": "PHOIdMtsaFdR"
    },
    {
      "cell_type": "markdown",
      "source": [
        "### b. Deep learning model: "
      ],
      "metadata": {
        "id": "Bg-TcWiv1zcD"
      },
      "id": "Bg-TcWiv1zcD"
    },
    {
      "cell_type": "code",
      "source": [
        "# Split the generic tweets into training data (60%), validation data (20%) and test data (20%).\n",
        "columns = ['text', 'label']\n",
        "twd_train, twd_test = train_test_split(sa_df[columns].values, test_size=0.4, random_state=42)\n",
        "twd_test, twd_val = train_test_split(twd_test, test_size = 0.5, train_size =0.5, random_state=42)\n",
        "#print(twd_train.shape)\n",
        "#print(twd_test.shape)\n",
        "#print(twd_val.shape)\n",
        "\n",
        "np.random.shuffle(twd_train)\n",
        "twd_train_X, twd_train_y = twd_train[:,[0]], twd_train[:, [1]]\n",
        "twd_train_X, twd_train_y = twd_train_X.flatten(), twd_train_y.flatten().astype('int')\n",
        "#print(twd_train_X.shape,twd_train_y.shape)\n",
        "\n",
        "twd_test_X, twd_test_y = twd_test[:,[0]], twd_test[:, [1]]\n",
        "twd_test_X, twd_test_y = twd_test_X.flatten(), twd_test_y.flatten().astype('int')\n",
        "#print(twd_test_X.shape,twd_test_y.shape)\n",
        "\n",
        "twd_val_X, twd_val_y = twd_val[:,[0]], twd_val[:, [1]]\n",
        "twd_val_X, twd_val_y = twd_val_X.flatten(), twd_val_y.flatten().astype('int')\n",
        "#print(twd_val_X.shape,twd_val_y.shape)"
      ],
      "metadata": {
        "id": "UDjVlPTy2B9x"
      },
      "id": "UDjVlPTy2B9x",
      "execution_count": 12,
      "outputs": []
    },
    {
      "cell_type": "code",
      "source": [
        "# Prepare the data using Bag of Words\n",
        "v_wf = CountVectorizer(max_features=5000)\n",
        "v_wf.fit(twd_train_X)\n",
        "bw_train_X = v_wf.transform(twd_train_X)\n",
        "bw_test_X = v_wf.transform(twd_test_X)\n",
        "bw_val_X = v_wf.transform(twd_val_X)"
      ],
      "metadata": {
        "id": "J01kzkN6LkFd"
      },
      "id": "J01kzkN6LkFd",
      "execution_count": 24,
      "outputs": []
    },
    {
      "cell_type": "code",
      "source": [
        "!pip install keras\n",
        "!pip install tensorflow --upgrade\n",
        "from keras.models import Sequential\n",
        "from keras.layers import Dense\n",
        "from keras import optimizers\n",
        "import numpy as np\n",
        "import tensorflow as tf"
      ],
      "metadata": {
        "id": "3etQPxv9sAI1"
      },
      "id": "3etQPxv9sAI1",
      "execution_count": null,
      "outputs": []
    },
    {
      "cell_type": "code",
      "source": [
        "# define function to convert matrix to tensor\n",
        "def convert(matrix):\n",
        "    coo = matrix.tocoo()\n",
        "    index = np.mat([coo.row, coo.col]).transpose() \n",
        "    return tf.SparseTensor(index, coo.data, coo.shape)\n",
        "bw_train_X = convert(bw_train_X)"
      ],
      "metadata": {
        "id": "mT4DAmmo4XPh"
      },
      "id": "mT4DAmmo4XPh",
      "execution_count": 26,
      "outputs": []
    },
    {
      "cell_type": "code",
      "source": [
        "# Define a deep learning model - artificial neural nets\n",
        "np.random.seed(9)\n",
        "\n",
        "model = Sequential()\n",
        "# Hidden Layer (Layer 1)\n",
        "model.add(Dense(units=4, activation='sigmoid', input_dim=5000))\n",
        "# Output Layer\n",
        "model.add(Dense(units=1, activation='sigmoid'))\n",
        "\n",
        "print(model.summary())\n",
        "print('')\n",
        "\n",
        "sgd = tf.keras.optimizers.SGD(lr=1)\n",
        "model.compile(loss='mean_squared_error', optimizer=sgd,metrics=['accuracy'])\n",
        "\n",
        "trainy=np.array(twd_train_y)\n",
        "model.fit(bw_train_X, trainy, epochs=10, verbose=1)\n"
      ],
      "metadata": {
        "colab": {
          "base_uri": "https://localhost:8080/"
        },
        "id": "uWu45KqPf8i4",
        "outputId": "21ead1d3-25cb-4176-a933-a70cac110ffc"
      },
      "id": "uWu45KqPf8i4",
      "execution_count": 27,
      "outputs": [
        {
          "output_type": "stream",
          "name": "stdout",
          "text": [
            "Model: \"sequential_4\"\n",
            "_________________________________________________________________\n",
            " Layer (type)                Output Shape              Param #   \n",
            "=================================================================\n",
            " dense_8 (Dense)             (None, 4)                 20004     \n",
            "                                                                 \n",
            " dense_9 (Dense)             (None, 1)                 5         \n",
            "                                                                 \n",
            "=================================================================\n",
            "Total params: 20,009\n",
            "Trainable params: 20,009\n",
            "Non-trainable params: 0\n",
            "_________________________________________________________________\n",
            "None\n",
            "\n",
            "Epoch 1/10\n",
            "10320/10320 [==============================] - 22s 2ms/step - loss: 0.0440 - accuracy: 0.9453\n",
            "Epoch 2/10\n",
            "10320/10320 [==============================] - 24s 2ms/step - loss: 0.0261 - accuracy: 0.9668\n",
            "Epoch 3/10\n",
            "10320/10320 [==============================] - 20s 2ms/step - loss: 0.0246 - accuracy: 0.9686\n",
            "Epoch 4/10\n",
            "10320/10320 [==============================] - 21s 2ms/step - loss: 0.0238 - accuracy: 0.9698\n",
            "Epoch 5/10\n",
            "10320/10320 [==============================] - 22s 2ms/step - loss: 0.0233 - accuracy: 0.9707\n",
            "Epoch 6/10\n",
            "10320/10320 [==============================] - 22s 2ms/step - loss: 0.0230 - accuracy: 0.9710\n",
            "Epoch 7/10\n",
            "10320/10320 [==============================] - 31s 3ms/step - loss: 0.0225 - accuracy: 0.9718\n",
            "Epoch 8/10\n",
            "10320/10320 [==============================] - 42s 4ms/step - loss: 0.0223 - accuracy: 0.9723\n",
            "Epoch 9/10\n",
            "10320/10320 [==============================] - 42s 4ms/step - loss: 0.0219 - accuracy: 0.9727\n",
            "Epoch 10/10\n",
            "10320/10320 [==============================] - 20s 2ms/step - loss: 0.0216 - accuracy: 0.9731\n"
          ]
        },
        {
          "output_type": "execute_result",
          "data": {
            "text/plain": [
              "<keras.callbacks.History at 0x7fa37e1e55d0>"
            ]
          },
          "metadata": {},
          "execution_count": 27
        }
      ]
    },
    {
      "cell_type": "markdown",
      "source": [
        "In this deep learning model, it has the highest accuracy at epoch 10, which is 97.31%."
      ],
      "metadata": {
        "id": "GAQ-15BQZVKs"
      },
      "id": "GAQ-15BQZVKs"
    },
    {
      "cell_type": "code",
      "source": [
        "def deep_learning(lr,epochs):\n",
        "  np.random.seed(9)\n",
        "  model = Sequential()\n",
        "  # Hidden Layer (Layer 1)\n",
        "  model.add(Dense(units=4, activation='sigmoid', input_dim=5000))\n",
        "  # Output Layer\n",
        "  model.add(Dense(units=1, activation='sigmoid'))\n",
        "\n",
        "  sgd = tf.keras.optimizers.SGD(lr=lr)\n",
        "  model.compile(loss='mean_squared_error', optimizer=sgd, metrics=['accuracy'])\n",
        "\n",
        "  trainy=np.array(twd_train_y)\n",
        "  a=model.fit(bw_train_X, trainy, epochs, verbose=1)\n",
        "  return a"
      ],
      "metadata": {
        "id": "o2SG8zxtDuf8"
      },
      "id": "o2SG8zxtDuf8",
      "execution_count": 36,
      "outputs": []
    },
    {
      "cell_type": "markdown",
      "source": [
        "Changing two hyperparameters: learning rate and epoch size."
      ],
      "metadata": {
        "id": "4wat4JGGaP-D"
      },
      "id": "4wat4JGGaP-D"
    },
    {
      "cell_type": "code",
      "source": [
        "# learning rate\n",
        "lr_list = [1E-0, 1E-1, 1E-2, 1E-3, 1E-4, 1E-5, 1E-6, 1E-7]  ###1e-3 * (10 ** (np.arange(100) / 30))\n",
        "# epoch count\n",
        "epoch_list = [1,5,10,15,20,25,30]\n",
        "\n",
        "for i in range(len(lr_list)):\n",
        "  for j in range(len(epoch_list)):\n",
        "    deep_learning(lr_list[i],epoch_list[j])"
      ],
      "metadata": {
        "colab": {
          "base_uri": "https://localhost:8080/"
        },
        "id": "Ecz0kpETGC8r",
        "outputId": "bc70f094-ae48-49ea-e233-8f0e0e53b285"
      },
      "id": "Ecz0kpETGC8r",
      "execution_count": 47,
      "outputs": [
        {
          "output_type": "stream",
          "name": "stdout",
          "text": [
            "330234/330234 [==============================] - 493s 1ms/step - loss: 0.0369 - accuracy: 0.9524\n",
            "66047/66047 [==============================] - 104s 2ms/step - loss: 0.0349 - accuracy: 0.9543\n",
            "33024/33024 [==============================] - 72s 2ms/step - loss: 0.0358 - accuracy: 0.9535\n",
            "22016/22016 [==============================] - 42s 2ms/step - loss: 0.0371 - accuracy: 0.9524\n",
            "16512/16512 [==============================] - 32s 2ms/step - loss: 0.0374 - accuracy: 0.9524\n",
            "13210/13210 [==============================] - 30s 2ms/step - loss: 0.0408 - accuracy: 0.9489\n",
            "11008/11008 [==============================] - 25s 2ms/step - loss: 0.0419 - accuracy: 0.9476\n",
            "330234/330234 [==============================] - 601s 2ms/step - loss: 0.0361 - accuracy: 0.9531\n",
            "66047/66047 [==============================] - 124s 2ms/step - loss: 0.0475 - accuracy: 0.9428\n",
            "33024/33024 [==============================] - 56s 2ms/step - loss: 0.0663 - accuracy: 0.9198\n",
            "22016/22016 [==============================] - 51s 2ms/step - loss: 0.0801 - accuracy: 0.9027\n",
            "16512/16512 [==============================] - 34s 2ms/step - loss: 0.0954 - accuracy: 0.8826\n",
            "13210/13210 [==============================] - 40s 3ms/step - loss: 0.1120 - accuracy: 0.8582\n",
            "11008/11008 [==============================] - 24s 2ms/step - loss: 0.1075 - accuracy: 0.8686\n",
            "330234/330234 [==============================] - 622s 2ms/step - loss: 0.0690 - accuracy: 0.9157\n",
            "66047/66047 [==============================] - 155s 2ms/step - loss: 0.1441 - accuracy: 0.8103\n",
            "33024/33024 [==============================] - 80s 2ms/step - loss: 0.1892 - accuracy: 0.7034\n",
            "22016/22016 [==============================] - 39s 2ms/step - loss: 0.2107 - accuracy: 0.6716\n",
            "16512/16512 [==============================] - 40s 2ms/step - loss: 0.2062 - accuracy: 0.6725\n",
            "13210/13210 [==============================] - 27s 2ms/step - loss: 0.2137 - accuracy: 0.6747\n",
            "11008/11008 [==============================] - 23s 2ms/step - loss: 0.2192 - accuracy: 0.6652\n",
            "330234/330234 [==============================] - 586s 2ms/step - loss: 0.2047 - accuracy: 0.6735\n",
            "66047/66047 [==============================] - 119s 2ms/step - loss: 0.2149 - accuracy: 0.6747\n",
            "33024/33024 [==============================] - 60s 2ms/step - loss: 0.2174 - accuracy: 0.6747\n",
            "22016/22016 [==============================] - 41s 2ms/step - loss: 0.2173 - accuracy: 0.6747\n",
            "16512/16512 [==============================] - 32s 2ms/step - loss: 0.2402 - accuracy: 0.5996\n",
            "13210/13210 [==============================] - 29s 2ms/step - loss: 0.2191 - accuracy: 0.6747\n",
            "11008/11008 [==============================] - 26s 2ms/step - loss: 0.2251 - accuracy: 0.6600\n",
            "330234/330234 [==============================] - 572s 2ms/step - loss: 0.2186 - accuracy: 0.6747\n",
            "66047/66047 [==============================] - 111s 2ms/step - loss: 0.2542 - accuracy: 0.5295\n",
            "33024/33024 [==============================] - 70s 2ms/step - loss: 0.2292 - accuracy: 0.6747\n",
            "22016/22016 [==============================] - 48s 2ms/step - loss: 0.2375 - accuracy: 0.6710\n",
            "16512/16512 [==============================] - 32s 2ms/step - loss: 0.2197 - accuracy: 0.6747\n",
            "13210/13210 [==============================] - 27s 2ms/step - loss: 0.2200 - accuracy: 0.6747\n",
            "11008/11008 [==============================] - 23s 2ms/step - loss: 0.2585 - accuracy: 0.3677\n",
            "330234/330234 [==============================] - 609s 2ms/step - loss: 0.2408 - accuracy: 0.5984\n",
            "66047/66047 [==============================] - 111s 2ms/step - loss: 0.2515 - accuracy: 0.4550\n",
            "33024/33024 [==============================] - 91s 3ms/step - loss: 0.2489 - accuracy: 0.5707\n",
            "22016/22016 [==============================] - 57s 2ms/step - loss: 0.3175 - accuracy: 0.3253\n",
            "16512/16512 [==============================] - 36s 2ms/step - loss: 0.2198 - accuracy: 0.6747\n",
            "13210/13210 [==============================] - 28s 2ms/step - loss: 0.2743 - accuracy: 0.3253\n",
            "11008/11008 [==============================] - 24s 2ms/step - loss: 0.2377 - accuracy: 0.6747\n",
            "330234/330234 [==============================] - 529s 2ms/step - loss: 0.2226 - accuracy: 0.6747\n",
            "66047/66047 [==============================] - 114s 2ms/step - loss: 0.2420 - accuracy: 0.6747\n",
            "33024/33024 [==============================] - 58s 2ms/step - loss: 0.2234 - accuracy: 0.6747\n",
            "22016/22016 [==============================] - 72s 3ms/step - loss: 0.2296 - accuracy: 0.6747\n",
            "16512/16512 [==============================] - 38s 2ms/step - loss: 0.2204 - accuracy: 0.6747\n",
            "13210/13210 [==============================] - 29s 2ms/step - loss: 0.2639 - accuracy: 0.3253\n",
            "11008/11008 [==============================] - 46s 4ms/step - loss: 0.2250 - accuracy: 0.6747\n",
            "330234/330234 [==============================] - 615s 2ms/step - loss: 0.2205 - accuracy: 0.6747\n",
            "66047/66047 [==============================] - 156s 2ms/step - loss: 0.2749 - accuracy: 0.3253\n",
            "33024/33024 [==============================] - 63s 2ms/step - loss: 0.2605 - accuracy: 0.3253\n",
            "22016/22016 [==============================] - 43s 2ms/step - loss: 0.2778 - accuracy: 0.3253\n",
            "16512/16512 [==============================] - 33s 2ms/step - loss: 0.2261 - accuracy: 0.6747\n",
            "13210/13210 [==============================] - 29s 2ms/step - loss: 0.3153 - accuracy: 0.3253\n",
            "11008/11008 [==============================] - 46s 4ms/step - loss: 0.2231 - accuracy: 0.6747\n"
          ]
        }
      ]
    },
    {
      "cell_type": "markdown",
      "source": [
        "As epoch size getting larger, accuracy decrease. \n",
        "As learning rate get smaller, accuracy decrease. \n",
        "The deep learning model has the highest accuracy at epoch 10 with learning rate = 1, which is 97.31%."
      ],
      "metadata": {
        "id": "MMKbQzeod7UJ"
      },
      "id": "MMKbQzeod7UJ"
    },
    {
      "cell_type": "code",
      "source": [
        "### Alternative: Changing optimizer and loss\n",
        "def deeplearning(optimizer='adam',loss='mean_squared_error'):\n",
        "  np.random.seed(9)\n",
        "  model = Sequential()\n",
        "  # Hidden Layer (Layer 1)\n",
        "  model.add(Dense(units=4, activation='sigmoid', input_dim=5000))\n",
        "  # Output Layer\n",
        "  model.add(Dense(units=1, activation='sigmoid'))\n",
        "\n",
        "  model.compile(loss=loss, optimizer=optimizer, metrics=['accuracy'])\n",
        "  return model\n",
        "\n",
        "# create model\n",
        "model = KerasClassifier(build_fn=deeplearning, epochs=10, verbose=1)\n",
        "\n",
        "# define the grid search hyper parameter options and dictionary\n",
        "optimizer = ['SGD', 'RMSprop', 'Adagrad', 'Adadelta', 'Adam', 'Adamax', 'Nadam']\n",
        "loss= ['mean_squared_error', 'mean_squared_logarithmic_error','mean_absolute_error','binary_crossentropy',\n",
        "       'hinge','squared_hinge','categorical_crossentropy','sparse_categorical_crossentropy','kullback_leibler_divergence']\n",
        "param_grid = dict(optimizer=optimizer,loss=loss)\n",
        "\n",
        "#create the grid search\n",
        "grid = GridSearchCV(estimator=model, param_grid=param_grid, n_jobs=-1, cv=3)\n",
        "trainy=np.array(twd_train_y)\n",
        "grid_result = grid.fit(bw_train_X, trainy)\n",
        "\n",
        "# summarize results\n",
        "print(\"Best: %f using %s\" % (grid_result.best_score_, grid_result.best_params_))\n",
        "means = grid_result.cv_results_['mean_test_score']\n",
        "stds = grid_result.cv_results_['std_test_score']\n",
        "params = grid_result.cv_results_['params']\n",
        "for mean, stdev, param in zip(means, stds, params):\n",
        "    print(\"%f (%f) with: %r\" % (mean, stdev, param))"
      ],
      "metadata": {
        "id": "mn6B77c3QHYr"
      },
      "id": "mn6B77c3QHYr",
      "execution_count": null,
      "outputs": []
    },
    {
      "cell_type": "markdown",
      "source": [
        "### c. Evaluate the trained model with the best performance on the Canadian Elections data"
      ],
      "metadata": {
        "id": "T3Lx5tr8eo7Y"
      },
      "id": "T3Lx5tr8eo7Y"
    },
    {
      "cell_type": "markdown",
      "source": [
        "Logistic model gives an accuracy score around 70% for its predictions to match the sentiment labelled in the Canadian elections data. Deep learning model has its highest accuracy at 89.72% in epoch 10, and lowest accuracy at 61.38% in epoch 1."
      ],
      "metadata": {
        "id": "Gz6udd_YLm36"
      },
      "id": "Gz6udd_YLm36"
    },
    {
      "cell_type": "code",
      "source": [
        "# data set\n",
        "ce_X = ce_df['text']\n",
        "ce_df['sentiment'] = ce_df.sentiment.replace({'negative': 0, 'positive': 1})\n",
        "ce_y = ce_df['sentiment'].values\n",
        "ce_X_tf = v_tf.transform(ce_X)\n",
        "# logistic model\n",
        "logistic_pred = log_tf.predict(ce_X_tf)\n",
        "logistic_acc = accuracy_score(ce_y, logistic_pred)\n",
        "print('Accuracy for logistic regression by using TF-IDF: ', round(logistic_acc,3))"
      ],
      "metadata": {
        "colab": {
          "base_uri": "https://localhost:8080/"
        },
        "id": "UXsX1nyZzL1C",
        "outputId": "bcdba64e-d037-4ee6-8dee-cc9592d6a3e3"
      },
      "id": "UXsX1nyZzL1C",
      "execution_count": 80,
      "outputs": [
        {
          "output_type": "stream",
          "name": "stdout",
          "text": [
            "Accuracy for logistic regression by using TF-IDF:  0.705\n"
          ]
        }
      ]
    },
    {
      "cell_type": "code",
      "source": [
        "# Prepare the data using Bag of Words\n",
        "ce_X_wf = v_wf.transform(ce_X)\n",
        "\n",
        "# deep learning model\n",
        "np.random.seed(9)\n",
        "model = Sequential()\n",
        "# Hidden Layer (Layer 1)\n",
        "model.add(Dense(units=4, activation='sigmoid', input_dim=1890))\n",
        "# Output Layer\n",
        "model.add(Dense(units=1, activation='sigmoid'))\n",
        "sgd = tf.keras.optimizers.SGD(lr=1)\n",
        "model.compile(loss='mean_squared_error', optimizer=sgd,metrics=['accuracy'])\n",
        "ce_X_sparse = convert(ce_X_wf)\n",
        "ce_y_array = np.array(ce_y)\n",
        "model.fit(ce_X_sparse, ce_y_array, epochs=10, verbose=1, shuffle = True)"
      ],
      "metadata": {
        "id": "bHCVzGyCer2e",
        "colab": {
          "base_uri": "https://localhost:8080/"
        },
        "outputId": "fb2f82da-441d-4992-9a2c-38602f5cb561"
      },
      "id": "bHCVzGyCer2e",
      "execution_count": 108,
      "outputs": [
        {
          "output_type": "stream",
          "name": "stdout",
          "text": [
            "Epoch 1/10\n",
            "32/32 [==============================] - 1s 4ms/step - loss: 0.2341 - accuracy: 0.6138\n",
            "Epoch 2/10\n",
            "32/32 [==============================] - 0s 4ms/step - loss: 0.2228 - accuracy: 0.6178\n",
            "Epoch 3/10\n",
            "32/32 [==============================] - 0s 6ms/step - loss: 0.2069 - accuracy: 0.6577\n",
            "Epoch 4/10\n",
            "32/32 [==============================] - 0s 4ms/step - loss: 0.1892 - accuracy: 0.7525\n",
            "Epoch 5/10\n",
            "32/32 [==============================] - 0s 4ms/step - loss: 0.1714 - accuracy: 0.7814\n",
            "Epoch 6/10\n",
            "32/32 [==============================] - 0s 4ms/step - loss: 0.1545 - accuracy: 0.8214\n",
            "Epoch 7/10\n",
            "32/32 [==============================] - 0s 4ms/step - loss: 0.1391 - accuracy: 0.8533\n",
            "Epoch 8/10\n",
            "32/32 [==============================] - 0s 3ms/step - loss: 0.1238 - accuracy: 0.8743\n",
            "Epoch 9/10\n",
            "32/32 [==============================] - 0s 4ms/step - loss: 0.1117 - accuracy: 0.8852\n",
            "Epoch 10/10\n",
            "32/32 [==============================] - 0s 4ms/step - loss: 0.1019 - accuracy: 0.8972\n"
          ]
        },
        {
          "output_type": "execute_result",
          "data": {
            "text/plain": [
              "<keras.callbacks.History at 0x7fa3e90ec310>"
            ]
          },
          "metadata": {},
          "execution_count": 108
        }
      ]
    },
    {
      "cell_type": "markdown",
      "source": [
        "### d. Other evaluation metrics to evaluate model\n"
      ],
      "metadata": {
        "id": "yBHyPsEPe7Qh"
      },
      "id": "yBHyPsEPe7Qh"
    },
    {
      "cell_type": "markdown",
      "source": [
        "Classification Metrics (precision, recall…) and Regression Metrics (MSE and so on).\n",
        "\n",
        "Precision is a measure of how many of the positive predictions made are correct, while recall is a measure of how many of the positive cases the classifier correctly predicted, over all the positive cases in the data. Both precision and recall are based on relevance.\n",
        "\n",
        "MSE is defined as Mean or Average of the square of the difference between actual and estimated values. It is used to check how close estimates or forecasts are to actual values. Lower the MSE, the closer is forecast to actual."
      ],
      "metadata": {
        "id": "YxUJgEeUNL77"
      },
      "id": "YxUJgEeUNL77"
    },
    {
      "cell_type": "code",
      "source": [
        "from sklearn.metrics import recall_score,precision_score\n",
        "print('Precision Score: ' + str(precision_score(ce_y, logistic_pred)))\n",
        "print('Recall Score: ' + str(recall_score(ce_y, logistic_pred)))\n",
        "print('MSE Score: ' + str(np.square(np.subtract(ce_y,logistic_pred)).mean()))"
      ],
      "metadata": {
        "colab": {
          "base_uri": "https://localhost:8080/"
        },
        "id": "RI6LqIAMZxK4",
        "outputId": "459cf134-c10b-4bab-903b-83e2a5be94fa"
      },
      "id": "RI6LqIAMZxK4",
      "execution_count": 126,
      "outputs": [
        {
          "output_type": "stream",
          "name": "stdout",
          "text": [
            "Precision Score: 0.8880778588807786\n",
            "Recall Score: 0.5934959349593496\n",
            "MSE Score: 0.2954091816367265\n"
          ]
        }
      ]
    },
    {
      "cell_type": "markdown",
      "source": [
        "### e. Choose the model that has the best performance and visualize the sentiment prediction results and the true sentiment for each of the 4 parties"
      ],
      "metadata": {
        "id": "-W9FO7T2egap"
      },
      "id": "-W9FO7T2egap"
    },
    {
      "cell_type": "markdown",
      "source": [
        "NLP analytics based on tweets is useful for political parties during election campaigns. Although the predicted negative sentiment is higher than the actual negative sentiment while the predicted positive sentiment is lower than the actual positive sentiment, the overall trend predicted is the same as the real situation that Liberal party had the most number of both positive and negative tweets.\n",
        "\n",
        "According to the graph, the Liberal Party is the most popular party on Twitter, with nearly half of the tweets about it, followed by the Conservative Party and the least number of tweets about the NDP. Sentiment analysis shows that the distribution of positive and negative sentiment is consistent for all political parties.\n",
        "\n",
        "One way to improve the accuracy of the model is to increase the sample size."
      ],
      "metadata": {
        "id": "NzurYGFANVs4"
      },
      "id": "NzurYGFANVs4"
    },
    {
      "cell_type": "code",
      "source": [
        "# create a data frame for canadian election dataset with matched party name\n",
        "ce_df_party=ce_df.copy()\n",
        "ce_df_party['party']=party_list\n",
        "ce_df_party['predict'] = logistic_pred"
      ],
      "metadata": {
        "id": "ZONiEDLtDGgF"
      },
      "id": "ZONiEDLtDGgF",
      "execution_count": 117,
      "outputs": []
    },
    {
      "cell_type": "code",
      "source": [
        "#Liberal Party\n",
        "lib_pos = ce_df_party.loc[ce_df_party['sentiment'] == 1][ce_df_party['party'] == 'Liberal'].shape[0] #number of positive tweets\n",
        "lib_neg = ce_df_party.loc[ce_df_party['sentiment'] == 0][ce_df_party['party'] == 'Liberal'].shape[0] #number of negative tweets\n",
        "lib_pos_pred = ce_df_party.loc[ce_df_party['predict'] == 1][ce_df_party['party'] == 'Liberal'].shape[0] #number of positive tweets predicted\n",
        "lib_neg_pred = ce_df_party.loc[ce_df_party['predict'] == 0][ce_df_party['party'] == 'Liberal'].shape[0] #number of negative tweets predicted\n",
        "\n",
        "#Conservative Party\n",
        "con_pos = ce_df_party.loc[ce_df_party['sentiment'] == 1][ce_df_party['party'] == 'Conservative'].shape[0]\n",
        "con_neg = ce_df_party.loc[ce_df_party['sentiment'] == 0][ce_df_party['party'] == 'Conservative'].shape[0]\n",
        "con_pos_pred = ce_df_party.loc[ce_df_party['predict'] == 1][ce_df_party['party'] == 'Conservative'].shape[0]\n",
        "con_neg_pred = ce_df_party.loc[ce_df_party['predict'] == 0][ce_df_party['party'] == 'Conservative'].shape[0]\n",
        "\n",
        "#NDP\n",
        "ndp_pos = ce_df_party.loc[ce_df_party['sentiment'] == 1][ce_df_party['party'] == 'NDP'].shape[0]\n",
        "ndp_neg = ce_df_party.loc[ce_df_party['sentiment'] == 0][ce_df_party['party'] == 'NDP'].shape[0]\n",
        "ndp_pos_pred = ce_df_party.loc[ce_df_party['predict'] == 1][ce_df_party['party'] == 'NDP'].shape[0]\n",
        "ndp_neg_pred = ce_df_party.loc[ce_df_party['predict'] == 0][ce_df_party['party'] == 'NDP'].shape[0]\n",
        "\n",
        "#PPC\n",
        "ppc_pos = ce_df_party.loc[ce_df_party['sentiment'] == 1][ce_df_party['party'] == 'PPC'].shape[0]\n",
        "ppc_neg = ce_df_party.loc[ce_df_party['sentiment'] == 0][ce_df_party['party'] == 'PPC'].shape[0]\n",
        "ppc_pos_pred = ce_df_party.loc[ce_df_party['predict'] == 1][ce_df_party['party'] == 'PPC'].shape[0]\n",
        "ppc_neg_pred = ce_df_party.loc[ce_df_party['predict'] == 0][ce_df_party['party'] == 'PPC'].shape[0]"
      ],
      "metadata": {
        "id": "AW4pZt60_0nA"
      },
      "id": "AW4pZt60_0nA",
      "execution_count": 120,
      "outputs": []
    },
    {
      "cell_type": "code",
      "source": [
        "# Bar plot - Number of True Negative and Predicted Negative Tweets for Each Party\n",
        "true_neg_total = [lib_neg, con_neg, ndp_neg, ppc_neg]\n",
        "pred_neg_total = [lib_neg_pred, con_neg_pred, ndp_neg_pred, ppc_neg_pred]\n",
        "\n",
        "index = np.arange(4)\n",
        "width = 0.35\n",
        "plt.bar(index, true_neg_total, width, color='#ff6666', label='True Negative Sentiment')\n",
        "plt.bar(index+width, pred_neg_total, width, color='#aa9999', label='Predicted Negative Sentiment')\n",
        "plt.xlabel('Party')\n",
        "plt.ylabel('Tweets Number')\n",
        "plt.title('Number of True Negative and Predicted Negative Tweets for Each Party')\n",
        "plt.xticks(index+width/2,('Liberal', 'Conservative', 'NDP', 'PPC'))\n",
        "plt.legend()\n",
        "plt.show()\n",
        "\n",
        "# Bar plot - Number of True Positive and Predicted Positive Tweets for Each Party\n",
        "true_pos_total = [lib_pos, con_pos, ndp_pos, ppc_pos]\n",
        "pred_pos_total = [lib_pos_pred, con_pos_pred, ndp_pos_pred, ppc_pos_pred]\n",
        "\n",
        "plt.bar(index, true_pos_total, width, color='#7CCC77', label='True Positive Sentiment')\n",
        "plt.bar(index+width, pred_pos_total, width, color='#aa9999', label='Predicted Positive Sentiment')\n",
        "plt.xlabel('Party')\n",
        "plt.ylabel('Tweets Number')\n",
        "plt.title('Number of True Positive and Predicted Positive Tweets for Each Party')\n",
        "plt.xticks(index+width/2,('Liberal', 'Conservative', 'NDP', 'PPC'))\n",
        "plt.legend()\n",
        "plt.show()\n",
        "\n",
        "# Pie Chart - Percantage of Predict Sentiments for Each Party\n",
        "labels = ['Liberal-positive predict', 'Liberal-negative predict', \n",
        "          'Conservative-positive predict', 'Conservative-negative predict', \n",
        "          'NDP-positive predict', 'NDP-negative predict', \n",
        "          \"PPC-positive predict\", \"PPC-negative predict\"]\n",
        "sizes = [lib_pos_pred, lib_neg_pred, con_pos_pred, con_neg_pred, ndp_pos_pred, ndp_neg_pred, ppc_pos_pred, ppc_neg_pred]\n",
        "fig1, ax1 = plt.subplots()\n",
        "ax1.pie(sizes, labels=labels, autopct='%1.1f%%', startangle=90)\n",
        "ax1.axis('equal')  \n",
        "centre_circle = plt.Circle((0,0),0.70,fc='white')\n",
        "fig = plt.gcf()\n",
        "fig.gca().add_artist(centre_circle)\n",
        "plt.title('Percantage of PREDICT Sentiments for Each Party')\n",
        "#plt.legend()\n",
        "plt.show()\n",
        "\n",
        "\n",
        "# Pie Chart - Percantage of True Sentiments for Each Party\n",
        "labels = ['Liberal-positive', 'Liberal-negative', \n",
        "          'Conservative-positive', 'Conservative-negative', \n",
        "          'NDP-positive', 'NDP-negative', \n",
        "          \"PPC-positive\", \"PPC-negative\"]\n",
        "sizes = [lib_pos, lib_neg, con_pos, con_neg, ndp_pos, ndp_neg, ppc_pos, ppc_neg]\n",
        "\n",
        "fig1, ax1 = plt.subplots()\n",
        "ax1.pie(sizes, labels=labels, autopct='%1.1f%%', startangle=90)\n",
        "ax1.axis('equal')  \n",
        "centre_circle = plt.Circle((0,0),0.70,fc='white')\n",
        "fig = plt.gcf()\n",
        "fig.gca().add_artist(centre_circle)\n",
        "plt.title('Percantage of TRUE Sentiments for Each Party')\n",
        "#plt.legend()\n",
        "plt.show()"
      ],
      "metadata": {
        "colab": {
          "base_uri": "https://localhost:8080/",
          "height": 1000
        },
        "id": "ccuS8wUKBpeV",
        "outputId": "b9f3e78e-29b4-43e7-8889-a7515b76b6a9"
      },
      "id": "ccuS8wUKBpeV",
      "execution_count": 148,
      "outputs": [
        {
          "output_type": "display_data",
          "data": {
            "text/plain": [
              "<Figure size 432x288 with 1 Axes>"
            ],
            "image/png": "[encoded data removed]"
          },
          "metadata": {
            "needs_background": "light"
          }
        },
        {
          "output_type": "display_data",
          "data": {
            "text/plain": [
              "<Figure size 432x288 with 1 Axes>"
            ],
            "image/png": "[encoded data removed]"
          },
          "metadata": {
            "needs_background": "light"
          }
        },
        {
          "output_type": "display_data",
          "data": {
            "text/plain": [
              "<Figure size 432x288 with 1 Axes>"
            ],
            "image/png": "[encoded data removed]"
          },
          "metadata": {}
        },
        {
          "output_type": "display_data",
          "data": {
            "text/plain": [
              "<Figure size 432x288 with 1 Axes>"
            ],
            "image/png": "[encoded data removed]"
          },
          "metadata": {}
        }
      ]
    },
    {
      "cell_type": "markdown",
      "source": [
        "## 4. Negative Reason Classification - Model implementation and tuning"
      ],
      "metadata": {
        "id": "KslUQqrdiv4t"
      },
      "id": "KslUQqrdiv4t"
    },
    {
      "cell_type": "markdown",
      "source": [
        "a) Provide a few reasons why your model may fail to predict the correct negative reasons. Back up your reasoning with examples from the test sets. \\\\\n",
        "One possible reason is the data set is not normalized, and data is not perfectly balanced. Moreover, the distribution of each negative cause is different. Better performance can be achieved with more data.\n",
        "\n",
        "b) Suggest one way you can improve the accuracy of your selected model. \\\\\n",
        "Obtaining more data.\n",
        "\n",
        "c) Feel free to combine similar reasons into fewer categories as long as you justify your reasoning. You are free to define input features of your model using word frequency analysis or other techniques. \\\\\n"
      ],
      "metadata": {
        "id": "0l2wMdii8wCm"
      },
      "id": "0l2wMdii8wCm"
    },
    {
      "cell_type": "code",
      "source": [
        "negative_df = ce_df[ce_df['sentiment']==0]\n",
        "negative_df = negative_df[negative_df['negative_reason'].notna()]\n",
        "negative_reasons = negative_df['negative_reason'].unique()\n",
        "print(negative_reasons)"
      ],
      "metadata": {
        "colab": {
          "base_uri": "https://localhost:8080/"
        },
        "id": "iCimQ6Lsi3uM",
        "outputId": "4f88e686-96d4-4ecb-e095-ea06b892b689"
      },
      "id": "iCimQ6Lsi3uM",
      "execution_count": 164,
      "outputs": [
        {
          "output_type": "stream",
          "name": "stdout",
          "text": [
            "['calling election early' 'covid ' 'others' 'scandal' 'tell lies'\n",
            " 'gun control' 'economy' 'healthcare and marijuana' 'segregation'\n",
            " 'women reproductive right and racism' 'climate problem']\n"
          ]
        }
      ]
    },
    {
      "cell_type": "code",
      "source": [
        "#Encoding negative reasons\n",
        "reasons_dict = { \n",
        "    'calling election early': 0,\n",
        "    'covid ': 1,\n",
        "    'others': 2,\n",
        "    'scandal': 3, \n",
        "    'tell lies': 4,\n",
        "    'gun control': 5,\n",
        "    'economy': 6,\n",
        "    'healthcare and marijuana': 7,\n",
        "    'segregation': 8,\n",
        "    'women reproductive right and racism': 9,\n",
        "    'climate problem': 10}\n",
        "\n",
        "negative_df['negative_reason'] = negative_df['negative_reason'].apply(lambda x:reasons_dict[x])\n",
        "columns = ['text', 'negative_reason']\n",
        "\n",
        "negative_train, negative_test = train_test_split(negative_df[columns].values, test_size=0.3, random_state=42)\n",
        "\n",
        "negative_train_X, negative_train_y = negative_train[:,[0]].flatten(), negative_train[:,[1]].flatten().astype('int')\n",
        "negative_test_X, negative_test_y = negative_test[:, [0]].flatten(), negative_test[:,[1]].flatten().astype('int')"
      ],
      "metadata": {
        "id": "roLbqpawmd8K"
      },
      "id": "roLbqpawmd8K",
      "execution_count": 162,
      "outputs": []
    },
    {
      "cell_type": "code",
      "source": [
        "# using TF-IDF\n",
        "v_tf = TfidfVectorizer(use_idf=True, smooth_idf=True, norm=None, max_features=5000)\n",
        "v_tf.fit(negative_train_X)\n",
        "negative_train_X_tf = v_tf.transform(negative_train_X)\n",
        "negative_test_X_tf = v_tf.transform(negative_test_X)\n",
        "# Logistic model\n",
        "n_log_tf = LogisticRegression()\n",
        "n_log_tf.fit(negative_train_X_tf, negative_train_y)\n",
        "n_log_pred_tf = n_log_tf.predict(negative_test_X_tf)\n",
        "n_log_acc_tf = accuracy_score(negative_test_y, n_log_pred_tf)\n",
        "print('Accuracy for logistic regression by using TF-IDF:', n_log_acc_tf)"
      ],
      "metadata": {
        "colab": {
          "base_uri": "https://localhost:8080/"
        },
        "id": "-xtBMRMAv8bH",
        "outputId": "3e0a2eb2-59c4-45af-c21d-d23695dc2102"
      },
      "id": "-xtBMRMAv8bH",
      "execution_count": 100,
      "outputs": [
        {
          "output_type": "stream",
          "name": "stdout",
          "text": [
            "Accuracy for logistic regression by using TF-IDF: 0.42735042735042733\n"
          ]
        }
      ]
    },
    {
      "cell_type": "code",
      "source": [
        "# using Bag of Words\n",
        "v_wf = CountVectorizer(max_features=5000)\n",
        "v_wf.fit(negative_train_X)\n",
        "bw_negative_train_X = v_wf.transform(negative_train_X)\n",
        "bw_negative_test_X = v_wf.transform(negative_test_X)\n",
        "# Logistic model\n",
        "n_log_bw = LogisticRegression()\n",
        "n_log_bw.fit(bw_negative_train_X, negative_train_y)\n",
        "n_log_pred_bw = n_log_bw.predict(bw_negative_test_X)\n",
        "n_log_acc_bw = accuracy_score(negative_test_y, n_log_pred_bw)\n",
        "print('Accuracy for logistic regression by using Bag of Words:', n_log_acc_bw)"
      ],
      "metadata": {
        "colab": {
          "base_uri": "https://localhost:8080/"
        },
        "id": "RkOsMWAOv-Y0",
        "outputId": "7edf1d9a-7743-4e69-b559-d76143f8e3b0"
      },
      "id": "RkOsMWAOv-Y0",
      "execution_count": 102,
      "outputs": [
        {
          "output_type": "stream",
          "name": "stdout",
          "text": [
            "Accuracy for logistic regression by using Bag of Words: 0.452991452991453\n"
          ]
        }
      ]
    },
    {
      "cell_type": "code",
      "source": [
        "def tune_log(train_X):\n",
        "  score = 'accuracy'\n",
        "  tuned_parameters = {'C': [1, 10, 100],'solver': ['sag', 'saga']}\n",
        "\n",
        "  clf = GridSearchCV(LogisticRegression(), tuned_parameters, scoring=score, cv=3)\n",
        "  clf.fit(train_X, negative_train_y)\n",
        "\n",
        "  print(\"Best parameters set found on development set:\")\n",
        "  print(grid.best_params_)\n",
        "  print(\"Grid scores on development set:\")\n",
        "  means = clf.cv_results_['mean_test_score']\n",
        "  stds = clf.cv_results_['std_test_score']\n",
        "  for mean, std, params in zip(means, stds, clf.cv_results_['params']):\n",
        "      print(\"%0.3f (+/-%0.03f) for %r\"\n",
        "            % (mean, std * 2, params))\n",
        "tune_log(negative_train_X_tf)\n",
        "tune_log(bw_negative_train_X)"
      ],
      "metadata": {
        "colab": {
          "base_uri": "https://localhost:8080/"
        },
        "id": "4kBOnV6rXxw1",
        "outputId": "5777e05e-4a2e-4862-cdda-b7781f7daaa2"
      },
      "id": "4kBOnV6rXxw1",
      "execution_count": 156,
      "outputs": [
        {
          "output_type": "stream",
          "name": "stdout",
          "text": [
            "Best parameters set found on development set:\n",
            "{'C': 100, 'solver': 'sag'}\n",
            "Grid scores on development set:\n",
            "0.467 (+/-0.031) for {'C': 1, 'solver': 'sag'}\n",
            "0.474 (+/-0.046) for {'C': 1, 'solver': 'saga'}\n",
            "0.448 (+/-0.021) for {'C': 10, 'solver': 'sag'}\n",
            "0.470 (+/-0.046) for {'C': 10, 'solver': 'saga'}\n",
            "0.478 (+/-0.031) for {'C': 100, 'solver': 'sag'}\n",
            "0.463 (+/-0.038) for {'C': 100, 'solver': 'saga'}\n",
            "Best parameters set found on development set:\n",
            "{'C': 100, 'solver': 'sag'}\n",
            "Grid scores on development set:\n",
            "0.467 (+/-0.018) for {'C': 1, 'solver': 'sag'}\n",
            "0.467 (+/-0.018) for {'C': 1, 'solver': 'saga'}\n",
            "0.448 (+/-0.021) for {'C': 10, 'solver': 'sag'}\n",
            "0.463 (+/-0.021) for {'C': 10, 'solver': 'saga'}\n",
            "0.448 (+/-0.028) for {'C': 100, 'solver': 'sag'}\n",
            "0.452 (+/-0.021) for {'C': 100, 'solver': 'saga'}\n"
          ]
        }
      ]
    }
  ],
  "metadata": {
    "kernelspec": {
      "display_name": "Python 3",
      "language": "python",
      "name": "python3"
    },
    "language_info": {
      "codemirror_mode": {
        "name": "ipython",
        "version": 3
      },
      "file_extension": ".py",
      "mimetype": "text/x-python",
      "name": "python",
      "nbconvert_exporter": "python",
      "pygments_lexer": "ipython3",
      "version": "3.8.8"
    },
    "colab": {
      "name": "wang_1003886413_finalproject.ipynb",
      "provenance": []
    }
  },
  "nbformat": 4,
  "nbformat_minor": 5
}